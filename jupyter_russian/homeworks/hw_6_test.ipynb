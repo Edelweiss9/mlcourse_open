{
 "cells": [
  {
   "cell_type": "code",
   "execution_count": null,
   "metadata": {},
   "outputs": [],
   "source": [
    "parse_dates = [f\"time{i}\" for i in range (1, 11)]\n",
    "\n",
    "train_df = pd.read_csv(os.path.join(PATH_TO_DATA, 'train_sessions.csv'), index_col='session_id', parse_dates=parse_dates)\n",
    "test_df = pd.read_csv(os.path.join(PATH_TO_DATA, 'test_sessions.csv'), index_col='session_id', parse_dates=parse_dates)\n",
    "\n",
    "train_df.head()"
   ]
  },
  {
   "cell_type": "code",
   "execution_count": 1,
   "metadata": {},
   "outputs": [
    {
     "ename": "NameError",
     "evalue": "name 'train_df' is not defined",
     "output_type": "error",
     "traceback": [
      "\u001b[0;31m---------------------------------------------------------------------------\u001b[0m",
      "\u001b[0;31mNameError\u001b[0m                                 Traceback (most recent call last)",
      "\u001b[0;32m<ipython-input-1-47df6ecece46>\u001b[0m in \u001b[0;36m<module>\u001b[0;34m()\u001b[0m\n\u001b[0;32m----> 1\u001b[0;31m \u001b[0my\u001b[0m \u001b[0;34m=\u001b[0m \u001b[0mtrain_df\u001b[0m\u001b[0;34m[\u001b[0m\u001b[0;34m'target'\u001b[0m\u001b[0;34m]\u001b[0m\u001b[0;34m\u001b[0m\u001b[0m\n\u001b[0m",
      "\u001b[0;31mNameError\u001b[0m: name 'train_df' is not defined"
     ]
    }
   ],
   "source": [
    "y = train_df['target']"
   ]
  },
  {
   "cell_type": "code",
   "execution_count": null,
   "metadata": {},
   "outputs": [],
   "source": [
    "def get_sitestr(df=train_df):\n",
    "    site_str = df['site1'].apply(lambda s: '' if np.isnan(s) else str(int(s)))\n",
    "    for i in range(2, 11):\n",
    "        site_str += \" \" + df[f\"site{i}\"].apply(lambda s: '' if np.isnan(s) else str(int(s)))\n",
    "    return site_str.str.strip()\n",
    "    \n",
    "tfidf = TfidfVectorizer(ngram_range=(1,3), max_features=100000, lowercase=False)\n",
    "train_sites = tfidf.fit_transform(get_sitestr(train_df))\n",
    "test_sites = tfidf.transform(get_sitestr(test_df))\n",
    "train_sites.shape, test_sites.shape"
   ]
  },
  {
   "cell_type": "code",
   "execution_count": null,
   "metadata": {},
   "outputs": [],
   "source": [
    "def get_time(df=train_df):\n",
    "    hour = df.time1.apply(lambda ts: ts.hour)\n",
    "    time_features = [hour.between(i, i) for i in range(24)]\n",
    "    weekdays = [df.time1.apply(lambda ts: ts.weekday()).between(i, i) for i in range(7)]\n",
    "    yearmon = df.time1.apply(lambda ts: ts.year * 12 + ts.month)\n",
    "    time_features += weekdays\n",
    "    time_features.append(yearmon)\n",
    "    return pd.concat(time_features, axis=1)\n",
    "\n",
    "train_time = get_time(train_df)\n",
    "test_time = get_time(test_df)\n",
    "\n",
    "train_time.shape, test_time.shape"
   ]
  },
  {
   "cell_type": "code",
   "execution_count": null,
   "metadata": {},
   "outputs": [],
   "source": [
    "time_scaler = StandardScaler()\n",
    "train_time_scaled = time_scaler.fit_transform(train_time.values)\n",
    "test_time_scaled = time_scaler.transform(test_time.values)\n",
    "train_time_scaled.shape, test_time_scaled.shape"
   ]
  },
  {
   "cell_type": "code",
   "execution_count": null,
   "metadata": {},
   "outputs": [],
   "source": [
    "X_train = hstack([train_sites, train_time_scaled])\n",
    "X_test = hstack([test_sites, test_time_scaled])\n",
    "X_train.shape, X_test.shape"
   ]
  },
  {
   "cell_type": "code",
   "execution_count": null,
   "metadata": {},
   "outputs": [],
   "source": [
    "%%time\n",
    "cv = LogisticRegressionCV(\n",
    "    Cs=np.logspace(-5, 5, 20), cv=5,\n",
    "    penalty='l2', scoring='roc_auc',\n",
    "    random_state=RANDOM, n_jobs=N_JOBS)\n",
    "cv.fit(X_train, y)"
   ]
  },
  {
   "cell_type": "code",
   "execution_count": null,
   "metadata": {},
   "outputs": [],
   "source": [
    "cv.scores_[1].mean(axis=0).max()"
   ]
  },
  {
   "cell_type": "code",
   "execution_count": null,
   "metadata": {},
   "outputs": [],
   "source": [
    "test_pred = cv.predict_proba(X_test)[:,1]"
   ]
  },
  {
   "cell_type": "code",
   "execution_count": null,
   "metadata": {},
   "outputs": [],
   "source": [
    "def write_to_submission_file(predicted_labels, out_file,\n",
    "                             target='target', index_label=\"session_id\"):\n",
    "    predicted_df = pd.DataFrame(predicted_labels,\n",
    "                                index = np.arange(1, predicted_labels.shape[0] + 1),\n",
    "                                columns=[target])\n",
    "    predicted_df.to_csv(out_file, index_label=index_label)"
   ]
  },
  {
   "cell_type": "code",
   "execution_count": null,
   "metadata": {},
   "outputs": [],
   "source": [
    "write_to_submission_file(test_pred, \"assignment6_alice_submission.csv\")"
   ]
  }
 ],
 "metadata": {
  "kernelspec": {
   "display_name": "Python 3",
   "language": "python",
   "name": "python3"
  },
  "language_info": {
   "codemirror_mode": {
    "name": "ipython",
    "version": 3
   },
   "file_extension": ".py",
   "mimetype": "text/x-python",
   "name": "python",
   "nbconvert_exporter": "python",
   "pygments_lexer": "ipython3",
   "version": "3.6.4"
  }
 },
 "nbformat": 4,
 "nbformat_minor": 2
}
